{
 "cells": [
  {
   "cell_type": "code",
   "execution_count": 1,
   "metadata": {},
   "outputs": [],
   "source": [
    "from kfp.components import InputPath, OutputPath, create_component_from_func\n",
    "\n",
    "\n",
    "@create_component_from_func\n",
    "def train_from_csv(\n",
    "    train_data_path: InputPath(\"csv\"),\n",
    "    train_target_path: InputPath(\"csv\"),\n",
    "    model_path: OutputPath(\"pickle\"),\n",
    "    kernel: str,\n",
    "):\n",
    "    import pickle\n",
    "    import pandas as pd\n",
    "\n",
    "    from sklearn.svm import SVC\n",
    "\n",
    "    train_data = pd.read_csv(train_data_path)\n",
    "    train_target = pd.read_csv(train_target_path)\n",
    "\n",
    "    clf = SVC(kernel=kernel)\n",
    "    clf.fit(train_data, train_target)\n",
    "\n",
    "    with open(model_path, mode=\"wb\") as file_writer:\n",
    "        pickle.dump(clf, file_writer)\n",
    "\n",
    "\n",
    "if __name__ == \"__main__\":\n",
    "    train_from_csv.component_spec.save(\"train_from_csv.yaml\")"
   ]
  },
  {
   "cell_type": "code",
   "execution_count": null,
   "metadata": {},
   "outputs": [],
   "source": [
    "\"\"\"\n",
    "def create_component_from_func(\n",
    "    func: Callable,\n",
    "    output_component_file: Optional[str] = None,\n",
    "    base_image: Optional[str] = None,\n",
    "    packages_to_install: List[str] = None,\n",
    "    annotations: Optional[Mapping[str, str]] = None,\n",
    "):\n",
    "\"\"\""
   ]
  },
  {
   "cell_type": "code",
   "execution_count": 2,
   "metadata": {},
   "outputs": [],
   "source": [
    "from functools import partial\n",
    "from kfp.components import InputPath, OutputPath, create_component_from_func\n",
    "\n",
    "@partial(\n",
    "    create_component_from_func,\n",
    "    base_image=\"docker.io/moey920/base_image:latest\",\n",
    ")\n",
    "def train_from_csv(\n",
    "    train_data_path: InputPath(\"csv\"),\n",
    "    train_target_path: InputPath(\"csv\"),\n",
    "    model_path: OutputPath(\"pkl\"),\n",
    "    kernel: str,\n",
    "):\n",
    "    import pickle\n",
    "    import pandas as pd\n",
    "\n",
    "    from sklearn.svm import SVC\n",
    "\n",
    "    train_data = pd.read_csv(train_data_path)\n",
    "    train_target = pd.read_csv(train_target_path)\n",
    "\n",
    "    clf = SVC(kernel=kernel)\n",
    "    clf.fit(train_data, train_target)\n",
    "\n",
    "    with open(model_path, mode=\"wb\") as file_writer:\n",
    "        pickle.dump(clf, file_writer)\n",
    "\n",
    "if __name__ == \"__main__\":\n",
    "    train_from_csv.component_spec.save(\"train_from_csv.yaml\")"
   ]
  },
  {
   "cell_type": "code",
   "execution_count": 4,
   "metadata": {},
   "outputs": [],
   "source": [
    "from functools import partial\n",
    "from kfp.components import InputPath, OutputPath, create_component_from_func\n",
    "\n",
    "@partial(\n",
    "    create_component_from_func,\n",
    "    packages_to_install=[\"dill==0.3.4\", \"pandas==1.3.4\", \"scikit-learn==1.0.1\"],\n",
    ")\n",
    "def train_from_csv(\n",
    "    train_data_path: InputPath(\"csv\"),\n",
    "    train_target_path: InputPath(\"csv\"),\n",
    "    model_path: OutputPath(\"dill\"),\n",
    "    kernel: str,\n",
    "):\n",
    "    import dill\n",
    "    import pandas as pd\n",
    "\n",
    "    from sklearn.svm import SVC\n",
    "\n",
    "    train_data = pd.read_csv(train_data_path)\n",
    "    train_target = pd.read_csv(train_target_path)\n",
    "\n",
    "    clf = SVC(kernel=kernel)\n",
    "    clf.fit(train_data, train_target)\n",
    "\n",
    "    with open(model_path, mode=\"wb\") as file_writer:\n",
    "        dill.dump(clf, file_writer)\n",
    "\n",
    "if __name__ == \"__main__\":\n",
    "    train_from_csv.component_spec.save(\"train_from_csv.yaml\")"
   ]
  },
  {
   "cell_type": "code",
   "execution_count": null,
   "metadata": {},
   "outputs": [],
   "source": []
  }
 ],
 "metadata": {
  "kernelspec": {
   "display_name": "Python 3.8.8 ('base')",
   "language": "python",
   "name": "python3"
  },
  "language_info": {
   "codemirror_mode": {
    "name": "ipython",
    "version": 3
   },
   "file_extension": ".py",
   "mimetype": "text/x-python",
   "name": "python",
   "nbconvert_exporter": "python",
   "pygments_lexer": "ipython3",
   "version": "3.8.8"
  },
  "orig_nbformat": 4,
  "vscode": {
   "interpreter": {
    "hash": "c1c33ee621ab6cc0b590db0ab7dc071b37f9087a05303bac2f1263d5a5e342c6"
   }
  }
 },
 "nbformat": 4,
 "nbformat_minor": 2
}
