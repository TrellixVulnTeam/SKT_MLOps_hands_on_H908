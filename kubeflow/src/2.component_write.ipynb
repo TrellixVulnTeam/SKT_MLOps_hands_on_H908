{
 "cells": [
  {
   "cell_type": "code",
   "execution_count": 1,
   "metadata": {},
   "outputs": [],
   "source": [
    "def print_and_return_number():\n",
    "    print(number)\n",
    "    return number"
   ]
  },
  {
   "cell_type": "code",
   "execution_count": 2,
   "metadata": {},
   "outputs": [],
   "source": [
    "def print_and_return_number(number: int) -> int:\n",
    "    print(number)\n",
    "    return number"
   ]
  },
  {
   "cell_type": "code",
   "execution_count": 3,
   "metadata": {},
   "outputs": [],
   "source": [
    "from typing import NamedTuple\n",
    "\n",
    "def divide_and_return_number(\n",
    "    number: int,\n",
    ") -> NamedTuple(\"DivideOutputs\", [(\"quotient\", int), (\"remainder\", int)]):\n",
    "    from collections import namedtuple\n",
    "\n",
    "    quotient, remainder = divmod(number, 2)\n",
    "    print(\"quotient is\", quotient)\n",
    "    print(\"remainder is\", remainder)\n",
    "\n",
    "    divide_outputs = namedtuple(\n",
    "        \"DivideOutputs\",\n",
    "        [\n",
    "            \"quotient\",\n",
    "            \"remainder\",\n",
    "        ],\n",
    "    )\n",
    "    return divide_outputs(quotient, remainder)"
   ]
  },
  {
   "cell_type": "code",
   "execution_count": 1,
   "metadata": {},
   "outputs": [],
   "source": [
    "from kfp.components import create_component_from_func\n",
    "\n",
    "@create_component_from_func\n",
    "def print_and_return_number(number: int) -> int:\n",
    "    print(number)\n",
    "    return number"
   ]
  },
  {
   "cell_type": "code",
   "execution_count": 2,
   "metadata": {},
   "outputs": [],
   "source": [
    "from kfp.components import create_component_from_func\n",
    "\n",
    "@create_component_from_func\n",
    "def print_and_return_number(number: int) -> int:\n",
    "    print(number)\n",
    "    return number\n",
    "\n",
    "if __name__ == \"__main__\":\n",
    "    print_and_return_number.component_spec.save(\"print_and_return_number.yaml\")"
   ]
  },
  {
   "cell_type": "code",
   "execution_count": 6,
   "metadata": {},
   "outputs": [
    {
     "data": {
      "text/plain": [
       "<function Print and return number(number: int)>"
      ]
     },
     "execution_count": 6,
     "metadata": {},
     "output_type": "execute_result"
    }
   ],
   "source": [
    "from kfp.components import load_component_from_file\n",
    "\n",
    "print_and_return_number = load_component_from_file(\"print_and_return_number.yaml\")\n",
    "print_and_return_number"
   ]
  },
  {
   "cell_type": "code",
   "execution_count": null,
   "metadata": {},
   "outputs": [],
   "source": []
  }
 ],
 "metadata": {
  "kernelspec": {
   "display_name": "Python 3.8.8 ('base')",
   "language": "python",
   "name": "python3"
  },
  "language_info": {
   "codemirror_mode": {
    "name": "ipython",
    "version": 3
   },
   "file_extension": ".py",
   "mimetype": "text/x-python",
   "name": "python",
   "nbconvert_exporter": "python",
   "pygments_lexer": "ipython3",
   "version": "3.8.8"
  },
  "orig_nbformat": 4,
  "vscode": {
   "interpreter": {
    "hash": "c1c33ee621ab6cc0b590db0ab7dc071b37f9087a05303bac2f1263d5a5e342c6"
   }
  }
 },
 "nbformat": 4,
 "nbformat_minor": 2
}
