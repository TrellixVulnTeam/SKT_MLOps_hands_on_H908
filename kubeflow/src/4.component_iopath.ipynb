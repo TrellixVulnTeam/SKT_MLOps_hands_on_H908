{
 "cells": [
  {
   "cell_type": "code",
   "execution_count": null,
   "metadata": {},
   "outputs": [],
   "source": [
    "import pickle\n",
    "import pandas as pd\n",
    "\n",
    "from sklearn.svm import SVC\n",
    "\n",
    "train_data = pd.read_csv(train_data_path)\n",
    "train_target = pd.read_csv(train_target_path)\n",
    "\n",
    "clf = SVC(kernel=kernel)\n",
    "clf.fit(train_data, train_target)\n",
    "\n",
    "with open(model_path, mode=\"wb\") as file_writer:\n",
    "    pickle.dump(clf, file_writer)"
   ]
  },
  {
   "cell_type": "code",
   "execution_count": null,
   "metadata": {},
   "outputs": [],
   "source": [
    "def train_from_csv(\n",
    "    train_data_path: str,\n",
    "    train_target_path: str,\n",
    "    model_path: str,\n",
    "    kernel: str,\n",
    "):\n",
    "    import dill\n",
    "    import pandas as pd\n",
    "\n",
    "    from sklearn.svm import SVC\n",
    "\n",
    "    train_data = pd.read_csv(train_data_path)\n",
    "    train_target = pd.read_csv(train_target_path)\n",
    "\n",
    "    clf = SVC(kernel=kernel)\n",
    "    clf.fit(train_data, train_target)\n",
    "\n",
    "    with open(model_path, mode=\"wb\") as file_writer:\n",
    "        dill.dump(clf, file_writer)"
   ]
  },
  {
   "cell_type": "code",
   "execution_count": null,
   "metadata": {},
   "outputs": [],
   "source": [
    "from kfp.components import InputPath, OutputPath\n",
    "\n",
    "def train_from_csv(\n",
    "    train_data_path: InputPath(\"csv\"),\n",
    "    train_target_path: InputPath(\"csv\"),\n",
    "    model_path: OutputPath(\"pickle\"),\n",
    "    kernel: str,\n",
    "):\n",
    "    import pickle\n",
    "    import pandas as pd\n",
    "\n",
    "    from sklearn.svm import SVC\n",
    "\n",
    "    train_data = pd.read_csv(train_data_path)\n",
    "    train_target = pd.read_csv(train_target_path)\n",
    "\n",
    "    clf = SVC(kernel=kernel)\n",
    "    clf.fit(train_data, train_target)\n",
    "\n",
    "    with open(model_path, mode=\"wb\") as file_writer:\n",
    "        pickle.dump(clf, file_writer)"
   ]
  },
  {
   "cell_type": "code",
   "execution_count": null,
   "metadata": {},
   "outputs": [],
   "source": [
    "from kfp.components import InputPath, OutputPath, create_component_from_func\n",
    "\n",
    "\n",
    "@create_component_from_func\n",
    "def train_from_csv(\n",
    "    train_data_path: InputPath(\"csv\"),\n",
    "    train_target_path: InputPath(\"csv\"),\n",
    "    model_path: OutputPath(\"pkl\"),\n",
    "    kernel: str,\n",
    "):\n",
    "    import pickle\n",
    "    import pandas as pd\n",
    "\n",
    "    from sklearn.svm import SVC\n",
    "\n",
    "    train_data = pd.read_csv(train_data_path)\n",
    "    train_target = pd.read_csv(train_target_path)\n",
    "\n",
    "    clf = SVC(kernel=kernel)\n",
    "    clf.fit(train_data, train_target)\n",
    "\n",
    "    with open(model_path, mode=\"wb\") as file_writer:\n",
    "        pickle.dump(clf, file_writer)"
   ]
  },
  {
   "cell_type": "code",
   "execution_count": null,
   "metadata": {},
   "outputs": [],
   "source": [
    "from functools import partial\n",
    "from kfp.components import InputPath, OutputPath, create_component_from_func\n",
    "\n",
    "\n",
    "@create_component_from_func\n",
    "def load_iris_data(\n",
    "    data_path: OutputPath(\"csv\"),\n",
    "    target_path: OutputPath(\"csv\"),\n",
    "):\n",
    "    import pandas as pd\n",
    "    from sklearn.datasets import load_iris\n",
    "\n",
    "    iris = load_iris()\n",
    "\n",
    "    data = pd.DataFrame(iris[\"data\"], columns=iris[\"feature_names\"])\n",
    "    target = pd.DataFrame(iris[\"target\"], columns=[\"target\"])\n",
    "\n",
    "    data.to_csv(data_path, index=False)\n",
    "    target.to_csv(target_path, index=False)"
   ]
  },
  {
   "cell_type": "code",
   "execution_count": null,
   "metadata": {},
   "outputs": [],
   "source": [
    "from kfp.dsl import pipeline\n",
    "\n",
    "\n",
    "@pipeline(name=\"complex_pipeline\")\n",
    "def complex_pipeline(kernel: str):\n",
    "    iris_data = load_iris_data()\n",
    "    model = train_from_csv(\n",
    "        train_data=iris_data.outputs[\"data\"],\n",
    "        train_target=iris_data.outputs[\"target\"],\n",
    "        kernel=kernel,\n",
    "    )"
   ]
  }
 ],
 "metadata": {
  "language_info": {
   "name": "python"
  },
  "orig_nbformat": 4
 },
 "nbformat": 4,
 "nbformat_minor": 2
}
