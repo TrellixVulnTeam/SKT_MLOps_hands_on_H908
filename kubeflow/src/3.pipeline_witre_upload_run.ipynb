{
 "cells": [
  {
   "cell_type": "code",
   "execution_count": 2,
   "metadata": {},
   "outputs": [],
   "source": [
    "from kfp.components import create_component_from_func\n",
    "\n",
    "@create_component_from_func\n",
    "def print_and_return_number(number: int) -> int:\n",
    "    print(number)\n",
    "    return number"
   ]
  },
  {
   "cell_type": "code",
   "execution_count": 3,
   "metadata": {},
   "outputs": [],
   "source": [
    "@create_component_from_func\n",
    "def sum_and_print_numbers(number_1: int, number_2: int) -> int:\n",
    "    sum_num = number_1 + number_2\n",
    "    print(sum_num)\n",
    "    return sum_num"
   ]
  },
  {
   "cell_type": "code",
   "execution_count": 4,
   "metadata": {},
   "outputs": [],
   "source": [
    "def example_pipeline():\n",
    "    number_1_result = print_and_return_number(number_1)\n",
    "    number_2_result = print_and_return_number(number_2)"
   ]
  },
  {
   "cell_type": "code",
   "execution_count": 5,
   "metadata": {},
   "outputs": [],
   "source": [
    "from typing import NamedTuple\n",
    "\n",
    "def divide_and_return_number(\n",
    "    number: int,\n",
    ") -> NamedTuple(\"DivideOutputs\", [(\"quotient\", int), (\"remainder\", int)]):\n",
    "    from collections import namedtuple\n",
    "\n",
    "    quotient, remainder = divmod(number, 2)\n",
    "    print(\"quotient is\", quotient)\n",
    "    print(\"remainder is\", remainder)\n",
    "\n",
    "    divide_outputs = namedtuple(\n",
    "        \"DivideOutputs\",\n",
    "        [\n",
    "            \"quotient\",\n",
    "            \"remainder\",\n",
    "        ],\n",
    "    )\n",
    "    return divide_outputs(quotient, remainder)"
   ]
  },
  {
   "cell_type": "code",
   "execution_count": null,
   "metadata": {},
   "outputs": [],
   "source": [
    "def multi_pipeline():\n",
    "    divided_result = divide_and_return_number(number)\n",
    "    num_1_result = print_and_return_number(divided_result.outputs[\"quotient\"])\n",
    "    num_2_result = print_and_return_number(divided_result.outputs[\"remainder\"])"
   ]
  },
  {
   "cell_type": "code",
   "execution_count": 9,
   "metadata": {},
   "outputs": [],
   "source": [
    "def example_pipeline(number_1: int, number_2:int):\n",
    "    number_1_result = print_and_return_number(number_1)\n",
    "    number_2_result = print_and_return_number(number_2)\n",
    "    sum_result = sum_and_print_numbers(\n",
    "        number_1=number_1_result.output, number_2=number_2_result.output\n",
    "    )\n",
    "    return sum_result"
   ]
  },
  {
   "cell_type": "code",
   "execution_count": 11,
   "metadata": {},
   "outputs": [],
   "source": [
    "from kfp.dsl import pipeline\n",
    "\n",
    "\n",
    "@pipeline(name=\"example_pipeline\")\n",
    "def example_pipeline(number_1: int, number_2: int):\n",
    "    number_1_result = print_and_return_number(number_1)\n",
    "    number_2_result = print_and_return_number(number_2)\n",
    "    sum_result = sum_and_print_numbers(\n",
    "        number_1=number_1_result.output, number_2=number_2_result.output\n",
    "    )"
   ]
  },
  {
   "cell_type": "code",
   "execution_count": 12,
   "metadata": {},
   "outputs": [],
   "source": [
    "if __name__ == \"__main__\":\n",
    "    import kfp\n",
    "    kfp.compiler.Compiler().compile(example_pipeline, \"example_pipeline.yaml\")"
   ]
  },
  {
   "cell_type": "code",
   "execution_count": 13,
   "metadata": {},
   "outputs": [],
   "source": [
    "import kfp\n",
    "from kfp.components import create_component_from_func\n",
    "from kfp.dsl import pipeline\n",
    "\n",
    "@create_component_from_func\n",
    "def print_and_return_number(number: int) -> int:\n",
    "    print(number)\n",
    "    return number\n",
    "\n",
    "@create_component_from_func\n",
    "def sum_and_print_numbers(number_1: int, number_2: int):\n",
    "    print(number_1 + number_2)\n",
    "\n",
    "@pipeline(name=\"example_pipeline\")\n",
    "def example_pipeline(number_1: int, number_2: int):\n",
    "    number_1_result = print_and_return_number(number_1)\n",
    "    number_2_result = print_and_return_number(number_2)\n",
    "    sum_result = sum_and_print_numbers(\n",
    "        number_1=number_1_result.output, number_2=number_2_result.output\n",
    "    )\n",
    "\n",
    "if __name__ == \"__main__\":\n",
    "    kfp.compiler.Compiler().compile(example_pipeline, \"example_pipeline.yaml\")"
   ]
  },
  {
   "cell_type": "code",
   "execution_count": null,
   "metadata": {},
   "outputs": [],
   "source": []
  }
 ],
 "metadata": {
  "kernelspec": {
   "display_name": "Python 3.8.8 ('base')",
   "language": "python",
   "name": "python3"
  },
  "language_info": {
   "codemirror_mode": {
    "name": "ipython",
    "version": 3
   },
   "file_extension": ".py",
   "mimetype": "text/x-python",
   "name": "python",
   "nbconvert_exporter": "python",
   "pygments_lexer": "ipython3",
   "version": "3.8.8"
  },
  "orig_nbformat": 4,
  "vscode": {
   "interpreter": {
    "hash": "c1c33ee621ab6cc0b590db0ab7dc071b37f9087a05303bac2f1263d5a5e342c6"
   }
  }
 },
 "nbformat": 4,
 "nbformat_minor": 2
}
